{
 "cells": [
  {
   "cell_type": "code",
   "execution_count": null,
   "metadata": {},
   "outputs": [],
   "source": [
    "%cd .."
   ]
  },
  {
   "cell_type": "code",
   "execution_count": null,
   "metadata": {},
   "outputs": [],
   "source": [
    "import pandas as pd\n",
    "from bankroll.interface import *\n",
    "from decimal import Decimal\n",
    "from ib_insync import IB, util\n",
    "import logging"
   ]
  },
  {
   "cell_type": "code",
   "execution_count": null,
   "metadata": {},
   "outputs": [],
   "source": [
    "util.startLoop()\n",
    "\n",
    "accounts = AccountAggregator.fromSettings(AccountAggregator.allSettings(config=loadConfig()), lenient=False)"
   ]
  },
  {
   "cell_type": "code",
   "execution_count": null,
   "metadata": {},
   "outputs": [],
   "source": [
    "stockPositions = [p for p in accounts.positions() if isinstance(p.instrument, Stock) and p.quantity != 0]\n",
    "stockPositions.sort(key=lambda p: p.instrument)"
   ]
  },
  {
   "cell_type": "code",
   "execution_count": null,
   "metadata": {},
   "outputs": [],
   "source": [
    "values = liveValuesForPositions(stockPositions, marketDataProvider(accounts))\n",
    "for p in stockPositions:\n",
    "    if p in values:\n",
    "        continue\n",
    "    \n",
    "    logging.warning(f'Missing market value for {p}')\n",
    "    values[p] = Cash(currency = p.instrument.currency, quantity = Decimal(0))"
   ]
  },
  {
   "cell_type": "code",
   "execution_count": null,
   "metadata": {},
   "outputs": [],
   "source": [
    "realizedBases = {p: realizedBasisForSymbol(p.instrument.symbol, accounts.activity()) for p in stockPositions}"
   ]
  },
  {
   "cell_type": "code",
   "execution_count": null,
   "metadata": {},
   "outputs": [],
   "source": [
    "rows = {p.instrument.symbol: [\n",
    "    values[p],\n",
    "    p.costBasis,\n",
    "    values[p] - p.costBasis,\n",
    "    (values[p] - p.costBasis) / p.costBasis,\n",
    "    realizedBases[p],\n",
    "    values[p] - realizedBases[p],\n",
    "    (values[p] - realizedBases[p]) / realizedBases[p],\n",
    "] for p in stockPositions}"
   ]
  },
  {
   "cell_type": "code",
   "execution_count": null,
   "metadata": {},
   "outputs": [],
   "source": [
    "def colorNegativeValue(val):\n",
    "    color = 'red' if val < 0 else 'black'\n",
    "    return 'color: %s' % color"
   ]
  },
  {
   "cell_type": "code",
   "execution_count": null,
   "metadata": {},
   "outputs": [],
   "source": [
    "df = pd.DataFrame.from_dict(data=rows, orient='index', columns=[\n",
    "    'Market value',\n",
    "    'Cost basis',\n",
    "    'Tax P/L',\n",
    "    'Tax P/L %',\n",
    "    'Realized basis',\n",
    "    'Net P/L',\n",
    "    'Net P/L %',\n",
    "])\n",
    "\n",
    "df.style.format({\n",
    "    'Tax P/L %': '{:.2%}',\n",
    "    'Net P/L %': '{:.2%}',\n",
    "}).applymap(colorNegativeValue)"
   ]
  }
 ],
 "metadata": {
  "kernelspec": {
   "display_name": "Python 3",
   "language": "python",
   "name": "python3"
  },
  "language_info": {
   "codemirror_mode": {
    "name": "ipython",
    "version": 3
   },
   "file_extension": ".py",
   "mimetype": "text/x-python",
   "name": "python",
   "nbconvert_exporter": "python",
   "pygments_lexer": "ipython3",
   "version": "3.7.4"
  }
 },
 "nbformat": 4,
 "nbformat_minor": 4
}
