{
 "cells": [
  {
   "cell_type": "code",
   "execution_count": null,
   "metadata": {},
   "outputs": [],
   "source": [
    "# This notebook demonstrates using bankroll to load positions across brokers\n",
    "# and highlights some basic portfolio rebalancing opportunities based on a set of desired allocations.\n",
    "#\n",
    "# See the parameters below the import list, and try playing around with them to see different results.\n",
    "\n",
    "%cd ..\n",
    "import ibkr\n",
    "import schwab\n",
    "import pandas as pd\n",
    "from analysis import liveValuesForPositions, deduplicatePositions\n",
    "from decimal import Decimal\n",
    "from ib_insync import IB\n",
    "from itertools import chain\n",
    "from model import Cash, Currency, Stock\n",
    "from pathlib import Path"
   ]
  },
  {
   "cell_type": "code",
   "execution_count": null,
   "metadata": {},
   "outputs": [],
   "source": [
    "# The currency in which to consider portfolio balancing. Positions denominated in other currencies will be ignored.\n",
    "# TODO: Support multi-currency portfolios\n",
    "PORTFOLIO_CURRENCY = Currency.USD\n",
    "\n",
    "# Desired % of portfolio to allocate to each stock in the list.\n",
    "DESIRED_ALLOCATION = {\n",
    "    'TSLA': 0.02,\n",
    "    'AAPL': 0.05,\n",
    "    'BRK B': 0.05,\n",
    "    'VT': 0.8,\n",
    "    'BND': 0.08,\n",
    "}\n",
    "\n",
    "# Maximum % deviation permitted in actual vs. desired portfolio values, before rebalancing.\n",
    "# This is not actually enforced, just used to highlight opportunities to adjust the portfolio.\n",
    "MAX_DEVIATION = 0.02\n",
    "\n",
    "# The port upon which Interactive Brokers' Trader Workstation (or IB Gateway) is accepting connections.\n",
    "# See bankroll's README for more information on setting this up.\n",
    "TWS_PORT = 4001"
   ]
  },
  {
   "cell_type": "code",
   "execution_count": null,
   "metadata": {},
   "outputs": [],
   "source": [
    "totalAllocation = sum(DESIRED_ALLOCATION.values())\n",
    "assert abs(totalAllocation - 1) < 0.0001, f'Allocations do not total 100%, got {totalAllocation:.2%}'"
   ]
  },
  {
   "cell_type": "code",
   "execution_count": null,
   "metadata": {},
   "outputs": [],
   "source": [
    "ib = IB()\n",
    "ib.connect('127.0.0.1', port = 4001)\n",
    "positions = ibkr.downloadPositions(ib, lenient=False)"
   ]
  },
  {
   "cell_type": "code",
   "execution_count": null,
   "metadata": {},
   "outputs": [],
   "source": [
    "path = Path('mydata/schwab-positions.CSV')\n",
    "if path.exists():\n",
    "    positions = deduplicatePositions(chain(positions, schwab.parsePositions(path)))"
   ]
  },
  {
   "cell_type": "code",
   "execution_count": null,
   "metadata": {},
   "outputs": [],
   "source": [
    "stockPositions = [p for p in positions if isinstance(p.instrument, Stock) and p.instrument.currency == PORTFOLIO_CURRENCY]\n",
    "stockPositions.sort(key=lambda p: p.instrument)\n",
    "stockPositions"
   ]
  },
  {
   "cell_type": "code",
   "execution_count": null,
   "metadata": {},
   "outputs": [],
   "source": [
    "values = liveValuesForPositions(stockPositions, ibkr.IBDataProvider(ib))"
   ]
  },
  {
   "cell_type": "code",
   "execution_count": null,
   "metadata": {},
   "outputs": [],
   "source": [
    "portfolioValue = sum((x for x in values.values()), Cash(currency = PORTFOLIO_CURRENCY, quantity = Decimal(0)))"
   ]
  },
  {
   "cell_type": "code",
   "execution_count": null,
   "metadata": {},
   "outputs": [],
   "source": [
    "def color_deviations(val):\n",
    "    color = 'black'\n",
    "    if abs(val) > MAX_DEVIATION:\n",
    "        if val > 0:\n",
    "            color = 'green'\n",
    "        else:\n",
    "            color = 'red'\n",
    "            \n",
    "    return f'color: {color}'"
   ]
  },
  {
   "cell_type": "code",
   "execution_count": null,
   "metadata": {},
   "outputs": [],
   "source": [
    "rows = {p.instrument.symbol: [\n",
    "    values[p],\n",
    "    float(values[p].quantity) / float(portfolioValue.quantity),\n",
    "    DESIRED_ALLOCATION.get(p.instrument.symbol),\n",
    "    float(values[p].quantity) / float(portfolioValue.quantity) - (DESIRED_ALLOCATION.get(p.instrument.symbol, 0)),\n",
    "] for p in stockPositions}"
   ]
  },
  {
   "cell_type": "code",
   "execution_count": null,
   "metadata": {},
   "outputs": [],
   "source": [
    "df = pd.DataFrame.from_dict(data=rows, orient='index', columns=[\n",
    "    'Market value',\n",
    "    '% of portfolio',\n",
    "    'Desired %',\n",
    "    'Deviation'\n",
    "])\n",
    "\n",
    "df.style.format({\n",
    "    '% of portfolio': '{:.2%}',\n",
    "    'Desired %': '{:.2%}',\n",
    "    'Deviation': '{:.2%}'\n",
    "}).applymap(color_deviations, 'Deviation')"
   ]
  },
  {
   "cell_type": "code",
   "execution_count": null,
   "metadata": {},
   "outputs": [],
   "source": []
  }
 ],
 "metadata": {
  "kernelspec": {
   "display_name": "Python 3",
   "language": "python",
   "name": "python3"
  },
  "language_info": {
   "codemirror_mode": {
    "name": "ipython",
    "version": 3
   },
   "file_extension": ".py",
   "mimetype": "text/x-python",
   "name": "python",
   "nbconvert_exporter": "python",
   "pygments_lexer": "ipython3",
   "version": "3.7.2"
  }
 },
 "nbformat": 4,
 "nbformat_minor": 2
}
