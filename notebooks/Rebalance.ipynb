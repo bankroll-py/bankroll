{
 "cells": [
  {
   "cell_type": "code",
   "execution_count": null,
   "metadata": {},
   "outputs": [],
   "source": [
    "# This notebook demonstrates using bankroll to load positions across brokers\n",
    "# and highlights some basic portfolio rebalancing opportunities based on a set of desired allocations.\n",
    "#\n",
    "# The default portfolio allocation is described (with comments) in notebooks/Rebalance.example.ini.\n",
    "# Copy this to Rebalance.ini in the top level folder, then edit accordingly, to provide your own\n",
    "# desired allocation.\n",
    "\n",
    "%cd ..\n",
    "import pandas as pd\n",
    "from bankroll.interface import *\n",
    "from configparser import ConfigParser\n",
    "from decimal import Decimal\n",
    "from functools import reduce\n",
    "from ib_insync import IB, util\n",
    "from itertools import *\n",
    "from math import *\n",
    "import logging\n",
    "import operator\n",
    "import re"
   ]
  },
  {
   "cell_type": "code",
   "execution_count": null,
   "metadata": {},
   "outputs": [],
   "source": [
    "util.startLoop()\n",
    "\n",
    "accounts = AccountAggregator.fromSettings(AccountAggregator.allSettings(loadConfig()), lenient=False)"
   ]
  },
  {
   "cell_type": "code",
   "execution_count": null,
   "metadata": {},
   "outputs": [],
   "source": [
    "stockPositions = [p for p in accounts.positions() if isinstance(p.instrument, Stock)]\n",
    "stockPositions.sort(key=lambda p: p.instrument)"
   ]
  },
  {
   "cell_type": "code",
   "execution_count": null,
   "metadata": {},
   "outputs": [],
   "source": [
    "values = liveValuesForPositions(stockPositions, marketDataProvider(accounts))"
   ]
  },
  {
   "cell_type": "code",
   "execution_count": null,
   "metadata": {},
   "outputs": [],
   "source": [
    "config = ConfigParser(interpolation=None)\n",
    "\n",
    "try:\n",
    "    config.read_file(open('Rebalance.ini'))\n",
    "except OSError:\n",
    "    config.read_file(open('notebooks/Rebalance.example.ini'))"
   ]
  },
  {
   "cell_type": "code",
   "execution_count": null,
   "metadata": {},
   "outputs": [],
   "source": [
    "def parsePercentage(str):\n",
    "    match = re.match(r'([0-9\\.]+)%', str)\n",
    "    if match:\n",
    "        return float(match[1]) / 100\n",
    "    else:\n",
    "        return float(str)"
   ]
  },
  {
   "cell_type": "code",
   "execution_count": null,
   "metadata": {},
   "outputs": [],
   "source": [
    "settings = config['Settings']"
   ]
  },
  {
   "cell_type": "code",
   "execution_count": null,
   "metadata": {},
   "outputs": [],
   "source": [
    "ignoredSecurities = {s.strip() for s in settings['ignored securities'].split(',')}"
   ]
  },
  {
   "cell_type": "code",
   "execution_count": null,
   "metadata": {},
   "outputs": [],
   "source": [
    "maximumDeviation = parsePercentage(settings['maximum deviation'])"
   ]
  },
  {
   "cell_type": "code",
   "execution_count": null,
   "metadata": {},
   "outputs": [],
   "source": [
    "baseCurrency = Currency[settings['base currency']]"
   ]
  },
  {
   "cell_type": "code",
   "execution_count": null,
   "metadata": {},
   "outputs": [],
   "source": [
    "categoryAllocations = {category: parsePercentage(allocation) for category, allocation in config['Portfolio'].items()}"
   ]
  },
  {
   "cell_type": "code",
   "execution_count": null,
   "metadata": {},
   "outputs": [],
   "source": [
    "totalAllocation = sum(categoryAllocations.values())\n",
    "assert abs(totalAllocation - 1) < 0.0001, f'Category allocations do not total 100%, got {totalAllocation:.2%}'"
   ]
  },
  {
   "cell_type": "code",
   "execution_count": null,
   "metadata": {},
   "outputs": [],
   "source": [
    "securityAllocations = {}\n",
    "for category, categoryAllocation in categoryAllocations.items():\n",
    "    securities = {security.upper(): parsePercentage(allocation) for security, allocation in config[category].items()}\n",
    "    \n",
    "    totalAllocation = sum(securities.values())\n",
    "    assert abs(totalAllocation - 1) < 0.0001, f'Allocations in category {category} do not total 100%, got {totalAllocation:.2%}'\n",
    "    \n",
    "    securityAllocations.update({security: allocation * categoryAllocation for security, allocation in securities.items()})"
   ]
  },
  {
   "cell_type": "code",
   "execution_count": null,
   "metadata": {},
   "outputs": [],
   "source": [
    "cashBalance = accounts.balance()"
   ]
  },
  {
   "cell_type": "code",
   "execution_count": null,
   "metadata": {},
   "outputs": [],
   "source": [
    "portfolioBalance = reduce(operator.add, (value for p, value in values.items() if p.instrument.symbol not in ignoredSecurities), cashBalance)"
   ]
  },
  {
   "cell_type": "code",
   "execution_count": null,
   "metadata": {},
   "outputs": [],
   "source": [
    "portfolioValue = convertCashToCurrency(baseCurrency, portfolioBalance.cash.values(), marketDataProvider(accounts))"
   ]
  },
  {
   "cell_type": "code",
   "execution_count": null,
   "metadata": {},
   "outputs": [],
   "source": [
    "def color_deviations(val):\n",
    "    color = 'black'\n",
    "    if abs(val) > maximumDeviation:\n",
    "        if val > 0:\n",
    "            color = 'green'\n",
    "        else:\n",
    "            color = 'red'\n",
    "            \n",
    "    return f'color: {color}'"
   ]
  },
  {
   "cell_type": "code",
   "execution_count": null,
   "metadata": {},
   "outputs": [],
   "source": [
    "def positionPctOfPortfolio(position) -> float:\n",
    "    if position not in values:\n",
    "        return nan\n",
    "    \n",
    "    value = values[position]\n",
    "    if value.currency != baseCurrency:\n",
    "        # TODO: Cache this somehow?\n",
    "        value = convertCashToCurrency(baseCurrency, [value], marketDataProvider(accounts))\n",
    "    \n",
    "    return float(value.quantity) / float(portfolioValue.quantity)"
   ]
  },
  {
   "cell_type": "code",
   "execution_count": null,
   "metadata": {},
   "outputs": [],
   "source": [
    "rows = {p.instrument.symbol: [\n",
    "    p.quantity,\n",
    "    values.get(p, nan),\n",
    "    positionPctOfPortfolio(p),\n",
    "    Decimal(securityAllocations.get(p.instrument.symbol)) * portfolioValue if securityAllocations.get(p.instrument.symbol) else None,\n",
    "    securityAllocations.get(p.instrument.symbol),\n",
    "    positionPctOfPortfolio(p) - securityAllocations.get(p.instrument.symbol, 0),\n",
    "] for p in stockPositions if p.instrument.symbol not in ignoredSecurities}"
   ]
  },
  {
   "cell_type": "code",
   "execution_count": null,
   "metadata": {},
   "outputs": [],
   "source": [
    "missing = {symbol: [\n",
    "    nan,\n",
    "    nan,\n",
    "    nan,\n",
    "    allocation,\n",
    "    nan,\n",
    "] for symbol, allocation in securityAllocations.items() if symbol not in rows}"
   ]
  },
  {
   "cell_type": "code",
   "execution_count": null,
   "metadata": {},
   "outputs": [],
   "source": [
    "df = pd.DataFrame.from_dict(data=dict(chain(rows.items(), missing.items())), orient='index', columns=[\n",
    "    'Quantity',\n",
    "    'Market value',\n",
    "    '% of portfolio',\n",
    "    'Desired value',\n",
    "    'Desired %',\n",
    "    'Deviation'\n",
    "]).sort_index()\n",
    "\n",
    "df.style.format({\n",
    "    'Quantity': '{:.2f}',\n",
    "    '% of portfolio': '{:.2%}',\n",
    "    'Desired %': '{:.2%}',\n",
    "    'Deviation': '{:.2%}'\n",
    "}).applymap(color_deviations, 'Deviation').highlight_null()"
   ]
  },
  {
   "cell_type": "code",
   "execution_count": null,
   "metadata": {},
   "outputs": [],
   "source": [
    "print(cashBalance)\n",
    "print()\n",
    "print('Total portfolio value:', portfolioValue)"
   ]
  },
  {
   "cell_type": "code",
   "execution_count": null,
   "metadata": {},
   "outputs": [],
   "source": []
  }
 ],
 "metadata": {
  "kernelspec": {
   "display_name": "Python 3",
   "language": "python",
   "name": "python3"
  },
  "language_info": {
   "codemirror_mode": {
    "name": "ipython",
    "version": 3
   },
   "file_extension": ".py",
   "mimetype": "text/x-python",
   "name": "python",
   "nbconvert_exporter": "python",
   "pygments_lexer": "ipython3",
   "version": "3.7.4"
  }
 },
 "nbformat": 4,
 "nbformat_minor": 4
}
